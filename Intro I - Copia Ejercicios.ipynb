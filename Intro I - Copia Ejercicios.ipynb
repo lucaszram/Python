{
  "cells": [
    {
      "cell_type": "markdown",
      "metadata": {
        "id": "view-in-github",
        "colab_type": "text"
      },
      "source": [
        "<a href=\"https://colab.research.google.com/github/lucaszram/Python/blob/main/Intro%20I%20-%20Copia%20Ejercicios.ipynb\" target=\"_parent\"><img src=\"https://colab.research.google.com/assets/colab-badge.svg\" alt=\"Open In Colab\"/></a>"
      ]
    },
    {
      "cell_type": "markdown",
      "metadata": {
        "id": "Wk4h6mjY_9Yu"
      },
      "source": [
        "<a href=\"https://colab.research.google.com/github/institutohumai/cursos-python/blob/master/Introduccion/1_TiposDatos/ejercicio/ejercicios.ipynb\"> <img src='https://colab.research.google.com/assets/colab-badge.svg' /> </a>\n",
        "<div align=\"center\"> Recordá abrir en una nueva pestaña </div>\n"
      ]
    },
    {
      "cell_type": "markdown",
      "metadata": {
        "id": "icvqxGGg_9Y6"
      },
      "source": [
        "# Ejercicios I"
      ]
    },
    {
      "cell_type": "markdown",
      "metadata": {
        "id": "5BT4_2Gd_9Y7"
      },
      "source": [
        "## 1- Cambiar un texto\n",
        "\n",
        "Necesitamos mostrar en nuestra web la sinopsis de las películas. El problema es que tenemos los textos separados por pipes (\"|\") en lugar de saltos de línea. "
      ]
    },
    {
      "cell_type": "code",
      "execution_count": null,
      "metadata": {
        "id": "YjRIKwyb_9Y9"
      },
      "outputs": [],
      "source": [
        "string = 'Sinopsis | Marty McFly, un típico adolescente americano de los años ochenta, '\\\n",
        "'es accidentalmente enviado de vuelta a 1955 en una \"máquina del tiempo\" realizada con'\\\n",
        "'un DeLorean inventada por un científico un poco loco. | En este viaje, Marty debe '\\\n",
        "'asegurarse de que sus padres se encuentren y se enamoren, para que pueda volver a su tiempo. '"
      ]
    },
    {
      "cell_type": "code",
      "execution_count": null,
      "metadata": {
        "id": "S-JDll4__9ZA",
        "outputId": "779565b4-0c15-4223-b5da-a3f678f1a90b",
        "colab": {
          "base_uri": "https://localhost:8080/"
        }
      },
      "outputs": [
        {
          "output_type": "stream",
          "name": "stdout",
          "text": [
            "Sinopsis | Marty McFly, un típico adolescente americano de los años ochenta, es accidentalmente enviado de vuelta a 1955 en una \"máquina del tiempo\" realizada conun DeLorean inventada por un científico un poco loco. | En este viaje, Marty debe asegurarse de que sus padres se encuentren y se enamoren, para que pueda volver a su tiempo. \n",
            "Sinopsis \n",
            " Marty McFly, un típico adolescente americano de los años ochenta, es accidentalmente enviado de vuelta a 1955 en una \"máquina del tiempo\" realizada conun DeLorean inventada por un científico un poco loco. \n",
            " En este viaje, Marty debe asegurarse de que sus padres se encuentren y se enamoren, para que pueda volver a su tiempo. \n"
          ]
        }
      ],
      "source": [
        "print(string)\n",
        "\n",
        "str2 = string.replace(\"|\", \"\\n\")\n",
        "print(str2)"
      ]
    },
    {
      "cell_type": "markdown",
      "metadata": {
        "id": "WR5pRiH3_9ZD"
      },
      "source": [
        "## 2 - Crear un acrónimo\n",
        "\n",
        "Ahora nos piden crear un acrónimo (una palabra compuesta por la primera letra de cada palabra) de cada título. Pero antes de eso es necesario que transformemos los títulos a \"title case\" porque no todos van a llegar prolijos. Entonces, el acrónimo de \"Volver al futuro\" debería ser \"VAF\". \n"
      ]
    },
    {
      "cell_type": "code",
      "execution_count": null,
      "metadata": {
        "id": "9pGrRm4B_9ZE"
      },
      "outputs": [],
      "source": [
        "titulo = 'Volver al futuro'"
      ]
    },
    {
      "cell_type": "code",
      "execution_count": null,
      "metadata": {
        "id": "PuN3KLdB_9ZG"
      },
      "outputs": [],
      "source": [
        "# 1. Transformar el string a \"title case\""
      ]
    },
    {
      "cell_type": "code",
      "source": [
        "titulo.title()"
      ],
      "metadata": {
        "id": "wrroDXzUi7cn",
        "outputId": "50a7005c-0a39-4c4e-c0a9-c81e337ca136",
        "colab": {
          "base_uri": "https://localhost:8080/",
          "height": 35
        }
      },
      "execution_count": null,
      "outputs": [
        {
          "output_type": "execute_result",
          "data": {
            "text/plain": [
              "'Volver Al Futuro'"
            ],
            "application/vnd.google.colaboratory.intrinsic+json": {
              "type": "string"
            }
          },
          "metadata": {},
          "execution_count": 15
        }
      ]
    },
    {
      "cell_type": "code",
      "execution_count": null,
      "metadata": {
        "id": "t_p2fgdr_9ZK"
      },
      "outputs": [],
      "source": [
        "# 2. Crear una lista con todas las palabras del string"
      ]
    },
    {
      "cell_type": "code",
      "source": [
        "tit1 = titulo.split()\n",
        "print(tit1)"
      ],
      "metadata": {
        "id": "gHslz9CGi_r9",
        "outputId": "5700f730-8965-458c-b829-9fb6eb99a641",
        "colab": {
          "base_uri": "https://localhost:8080/"
        }
      },
      "execution_count": null,
      "outputs": [
        {
          "output_type": "stream",
          "name": "stdout",
          "text": [
            "['Volver', 'al', 'futuro']\n"
          ]
        }
      ]
    },
    {
      "cell_type": "code",
      "execution_count": null,
      "metadata": {
        "id": "leJ7MZGd_9ZL",
        "outputId": "9d7ddd7b-75f7-4a18-e7bb-e713d98dd3e4",
        "colab": {
          "base_uri": "https://localhost:8080/"
        }
      },
      "outputs": [
        {
          "output_type": "stream",
          "name": "stdout",
          "text": [
            "Volver V V\n",
            "al a Va\n",
            "futuro f Vaf\n"
          ]
        }
      ],
      "source": [
        "# 3. Recorrer la lista y agregar al acrónimo la primera letra de cada palabra\n",
        "acronimo = ''\n",
        "\n",
        "for i in tit1:\n",
        "  a = i[0]\n",
        "  acronimo = \"\".join([acronimo,a])\n",
        "  print(i, a, acronimo)\n"
      ]
    },
    {
      "cell_type": "markdown",
      "source": [
        "## 3 - Evaluar si un número es par o impar \n",
        "\n",
        "Con que operación podríamos evaluar si un número es par o impar "
      ],
      "metadata": {
        "id": "uYRnWj-B4sw1"
      }
    },
    {
      "cell_type": "code",
      "source": [
        "x = 4\n",
        "if x%2 == 0:\n",
        "  print(\"Es par\")\n",
        "else:\n",
        "  print(\"Es impar\")\n"
      ],
      "metadata": {
        "id": "SwHvDZHUD9ak",
        "outputId": "a73038f7-67e2-4a96-f927-8d0e1e35ffec",
        "colab": {
          "base_uri": "https://localhost:8080/"
        }
      },
      "execution_count": null,
      "outputs": [
        {
          "output_type": "stream",
          "name": "stdout",
          "text": [
            "Es par\n"
          ]
        }
      ]
    },
    {
      "cell_type": "markdown",
      "source": [
        "## 4 - Dividir pares e impartes  \n",
        "\n",
        "Dado un rango de valores enteros con distancia de una unidad \n",
        "\n",
        "```\n",
        "range(4,10)\n",
        "```\n",
        "\n",
        "separar en listas los números pares e impartes iterando por cada elemento del intervalo "
      ],
      "metadata": {
        "id": "xlXusP6h72uI"
      }
    },
    {
      "cell_type": "code",
      "source": [
        "pares = []\n",
        "impares = []\n",
        "for i in range(4,10):\n",
        "  if i%2 == 0:\n",
        "    pares.append(i)\n",
        "    print(\"Es par\", pares )\n",
        "  else:\n",
        "    impares.append(i)\n",
        "    print(\"Es impar\", impares)\n"
      ],
      "metadata": {
        "id": "0BNXso5oG2yd",
        "outputId": "17ba1e16-00f3-4abe-cb3f-5a333d12b809",
        "colab": {
          "base_uri": "https://localhost:8080/"
        }
      },
      "execution_count": null,
      "outputs": [
        {
          "output_type": "stream",
          "name": "stdout",
          "text": [
            "Es par [4]\n",
            "Es impar [5]\n",
            "Es par [4, 6]\n",
            "Es impar [5, 7]\n",
            "Es par [4, 6, 8]\n",
            "Es impar [5, 7, 9]\n"
          ]
        }
      ]
    }
  ],
  "metadata": {
    "kernelspec": {
      "display_name": "conda_python3",
      "language": "python",
      "name": "conda_python3"
    },
    "language_info": {
      "codemirror_mode": {
        "name": "ipython",
        "version": 3
      },
      "file_extension": ".py",
      "mimetype": "text/x-python",
      "name": "python",
      "nbconvert_exporter": "python",
      "pygments_lexer": "ipython3",
      "version": "3.6.10"
    },
    "colab": {
      "provenance": [],
      "include_colab_link": true
    }
  },
  "nbformat": 4,
  "nbformat_minor": 0
}