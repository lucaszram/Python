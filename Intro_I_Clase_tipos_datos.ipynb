{
  "cells": [
    {
      "cell_type": "markdown",
      "metadata": {
        "id": "view-in-github",
        "colab_type": "text"
      },
      "source": [
        "<a href=\"https://colab.research.google.com/github/lucaszram/Python/blob/main/Intro_I_Clase_tipos_datos.ipynb\" target=\"_parent\"><img src=\"https://colab.research.google.com/assets/colab-badge.svg\" alt=\"Open In Colab\"/></a>"
      ]
    },
    {
      "cell_type": "markdown",
      "metadata": {
        "id": "3UKg5AN_YH2e"
      },
      "source": [
        "<a href=\"https://colab.research.google.com/github/institutohumai/cursos-python/blob/master/Introduccion/1_TiposDatos/tipos-datos.ipynb\"> <img src='https://colab.research.google.com/assets/colab-badge.svg' /> </a>\n",
        "<div align=\"center\"> Recordá abrir en una nueva pestaña </div>\n"
      ]
    },
    {
      "cell_type": "code",
      "metadata": {
        "hidePrompt": false,
        "id": "9al6coO99zcc"
      },
      "source": [
        "# Introducción a la programación con Python"
      ],
      "execution_count": null,
      "outputs": []
    },
    {
      "cell_type": "markdown",
      "metadata": {
        "id": "OmyBlo2bYH2i"
      },
      "source": [
        "<h1 id=\"tocheading\">Tabla de Contenidos</h1>\n",
        "<div id=\"toc\"></div>"
      ]
    },
    {
      "cell_type": "markdown",
      "metadata": {
        "id": "IcNj0R4bYH2i"
      },
      "source": [
        "I. Introducción a la programación con Python\n",
        "\n",
        "II. Tabla de Contenidos\n",
        "\n",
        "    I. Python\n",
        "\n",
        "III. IDEs\n",
        "\n",
        "        I. VS Code\n",
        "        II. Pycharm\n",
        "        III. Spyder\n",
        "\n",
        "IV. Hola Jupyter!\n",
        "\n",
        "V. Declarando variables\n",
        "\n",
        "    I. Numéricos\n",
        "    II. Operaciones numéricas - Divisiones\n",
        "    III. Booleanos\n",
        "        I. Operaciones lógicas\n",
        "\n",
        "VI. Ejercicios\n",
        "\n",
        "    I. Strings\n",
        "            I. Ejercicios\n",
        "    II. Listas\n",
        "        I. Indexing y slicing en listas\n",
        "        II. Otras operaciones y métodos\n",
        "    III. Diccionarios\n",
        "    IV. Condicionales\n",
        "    V. Bucles o Loops\n",
        "        I. For loop\n",
        "        II. While loop\n",
        "    VI. Recursos y tips\n",
        "    VII. Tips en la práctica"
      ]
    },
    {
      "cell_type": "markdown",
      "metadata": {
        "hidePrompt": true,
        "id": "y73tz2YEYH2j"
      },
      "source": [
        "## Python\n",
        "\n",
        "- Elegante, sencillo\n",
        "- Comunidad y accesibilidad\n",
        "- Desarrollos de estado del arte\n",
        "- Flexibilidad \"full stack\"\n",
        "- Multi-paradigma\n"
      ]
    },
    {
      "cell_type": "markdown",
      "metadata": {
        "id": "zdxn21KDYH2j"
      },
      "source": [
        "# IDEs"
      ]
    },
    {
      "cell_type": "markdown",
      "metadata": {
        "id": "_RhFOQzwYH2j"
      },
      "source": [
        "### VS Code"
      ]
    },
    {
      "cell_type": "markdown",
      "metadata": {
        "id": "pUHtIohlYH2j"
      },
      "source": [
        "<img src='https://datasets-humai.s3.amazonaws.com/images/IDE.png'></img>"
      ]
    },
    {
      "cell_type": "markdown",
      "metadata": {
        "id": "KaQom9miYH2k"
      },
      "source": [
        "### Pycharm"
      ]
    },
    {
      "cell_type": "markdown",
      "metadata": {
        "id": "U5CalxLwYH2k"
      },
      "source": [
        "<img src='https://datasets-humai.s3.amazonaws.com/images/Pycharm.png'></img>"
      ]
    },
    {
      "cell_type": "markdown",
      "metadata": {
        "id": "mT3iToexYH2k"
      },
      "source": [
        "### Spyder"
      ]
    },
    {
      "cell_type": "markdown",
      "metadata": {
        "id": "7mWhUakOYH2k"
      },
      "source": [
        "<img src='https://datasets-humai.s3.amazonaws.com/images/spyder.png'></img>"
      ]
    },
    {
      "cell_type": "markdown",
      "metadata": {
        "id": "zz37KJbi7Adx"
      },
      "source": [
        "# Hola Jupyter!\n",
        "\n",
        "En esta _notebook_ conoceremos el entorno Jupyter (o Google Colaboratory, una versión online gratuita), interfaz incluida en la instalación de Python ampliamente usada para Data Science llamada <a href=\"https://www.anaconda.com/products/individual\"/> Anaconda </a>. Para seguir el curso offline, luego de descargar e instalar Anaconda, si usan Windows deberán buscar el programa en su computadora y ejecutar Jupyter.\n",
        "\n",
        "Si están en una distribución de linux o Mac pueden ejecutar en la terminal:\n",
        "\n",
        "> jupyter notebook\n",
        "\n",
        "Cada una de estas _celdas_ funciona como un bloque donde podemos escribir texto plano, Latex, HTML, además de ejecutar código Python, R, bash y otros. \n",
        "\n",
        "$$\\bar{x} = \\frac{1}{n} \\sum_{i=1}^n x_i$$"
      ]
    },
    {
      "cell_type": "markdown",
      "metadata": {
        "id": "AcoLjYP-NWpd"
      },
      "source": [
        "# Declarando variables <a name=\"section-2\"></a>"
      ]
    },
    {
      "cell_type": "markdown",
      "metadata": {
        "id": "oFtrilzdZHCG"
      },
      "source": [
        "Existen distintos tipos de variables:\n",
        "- int: entero\n",
        "- float: punto flotante\n",
        "- string: cadena de caracteres\n",
        "- bool: booleano, 0, 1, True o False\n",
        "\n",
        "Y estructuras de datos, como:\n",
        "  - list: lista de elementos (de cualquier tipo, incluida otra lista)\n",
        "  - dict: \"diccionario\", conjunto de pares llave:valor\n",
        "  \n",
        "Veamos un primer ejemplo"
      ]
    },
    {
      "cell_type": "code",
      "execution_count": null,
      "metadata": {
        "id": "vaXaCyPJYH2l"
      },
      "outputs": [],
      "source": [
        "primera_variable = 'Hola mundo!'\n",
        "\n",
        "print(primera_variable)"
      ]
    },
    {
      "cell_type": "markdown",
      "metadata": {
        "id": "mdxPWxfhYH2l"
      },
      "source": [
        "Declaramos una variable llamada *primera_variable* asignándole el valor de \"Hola mundo!\". La **función print** toma entre paréntesis esa variable y muestra el valor en pantalla. "
      ]
    },
    {
      "cell_type": "markdown",
      "metadata": {
        "id": "42zfqMIfYH2l"
      },
      "source": [
        "En Jupyter la última línea de una celda se imprime al ejecutar..."
      ]
    },
    {
      "cell_type": "code",
      "execution_count": null,
      "metadata": {
        "id": "pObz_FUIYH2m"
      },
      "outputs": [],
      "source": [
        "primera_variable"
      ]
    },
    {
      "cell_type": "markdown",
      "metadata": {
        "id": "SFaVzyu3YH2m"
      },
      "source": [
        "## Numéricos"
      ]
    },
    {
      "cell_type": "markdown",
      "metadata": {
        "id": "_0YoLF4qYH2m"
      },
      "source": [
        "Declaramos dos variables de tipo numérico:"
      ]
    },
    {
      "cell_type": "code",
      "execution_count": null,
      "metadata": {
        "hidePrompt": true,
        "id": "mfxF76C4ZGJK"
      },
      "outputs": [],
      "source": [
        "x = 5\n",
        "y = 17"
      ]
    },
    {
      "cell_type": "markdown",
      "metadata": {
        "id": "i87nS_EqYH2m"
      },
      "source": [
        "Podemos hacer las operaciones numéricas usuales:"
      ]
    },
    {
      "cell_type": "code",
      "execution_count": null,
      "metadata": {
        "hidePrompt": true,
        "id": "c0MF7YOXYH2m"
      },
      "outputs": [],
      "source": [
        "print(x+y) # suma\n",
        "print(x*2) # multiplicacion\n",
        "print(x**(1/2)) # elevado a "
      ]
    },
    {
      "cell_type": "markdown",
      "metadata": {
        "id": "xVMPZQrVYH2m"
      },
      "source": [
        "## Operaciones numéricas - Divisiones"
      ]
    },
    {
      "cell_type": "markdown",
      "metadata": {
        "id": "2Xn69vePYH2m"
      },
      "source": [
        "Devuelve la división:"
      ]
    },
    {
      "cell_type": "code",
      "execution_count": null,
      "metadata": {
        "id": "pMa4ts3FYH2m"
      },
      "outputs": [],
      "source": [
        "print(y / x)"
      ]
    },
    {
      "cell_type": "markdown",
      "metadata": {
        "id": "rhah48ryYH2m"
      },
      "source": [
        "Devuelve la parte entera de la división:"
      ]
    },
    {
      "cell_type": "code",
      "execution_count": null,
      "metadata": {
        "id": "YZGClN7YYH2m"
      },
      "outputs": [],
      "source": [
        "print(y // x) "
      ]
    },
    {
      "cell_type": "markdown",
      "metadata": {
        "id": "JWovCOj1YH2m"
      },
      "source": [
        "Devuelve el resto:"
      ]
    },
    {
      "cell_type": "code",
      "execution_count": null,
      "metadata": {
        "id": "OKYM8SWvYH2n"
      },
      "outputs": [],
      "source": [
        "print(y % x)"
      ]
    },
    {
      "cell_type": "markdown",
      "metadata": {
        "id": "k2AHmoo2YH2n"
      },
      "source": [
        "Otros ejemplos:"
      ]
    },
    {
      "cell_type": "code",
      "execution_count": null,
      "metadata": {
        "hidePrompt": true,
        "id": "z0Es9u9ZYH2n"
      },
      "outputs": [],
      "source": [
        "un_string = 'variable de ejemplo'\n",
        "un_bool = True"
      ]
    },
    {
      "cell_type": "markdown",
      "metadata": {
        "id": "P19h3rWwYH2n"
      },
      "source": [
        "La **función** _type_ recibe de **argumento** una **variable** y **devuelve** su tipo"
      ]
    },
    {
      "cell_type": "code",
      "execution_count": null,
      "metadata": {
        "id": "RCKQG1QbYH2n"
      },
      "outputs": [],
      "source": [
        "type(x), type(y)"
      ]
    },
    {
      "cell_type": "markdown",
      "metadata": {
        "id": "daDHWloZYH2n"
      },
      "source": [
        "Intentemos la siguiente suma..."
      ]
    },
    {
      "cell_type": "code",
      "execution_count": null,
      "metadata": {
        "id": "wtci_5xSYH2n"
      },
      "outputs": [],
      "source": [
        "5 + \"10\""
      ]
    },
    {
      "cell_type": "markdown",
      "metadata": {
        "id": "ChpbyAWWYH2n"
      },
      "source": [
        "¿Qué paso?"
      ]
    },
    {
      "cell_type": "markdown",
      "metadata": {
        "id": "pAHeKd52YH2n"
      },
      "source": [
        "Si **convertimos** el string \"10\" a tipo int"
      ]
    },
    {
      "cell_type": "code",
      "execution_count": null,
      "metadata": {
        "id": "D_PvsPCAYH2n"
      },
      "outputs": [],
      "source": [
        "5 + int('10')"
      ]
    },
    {
      "cell_type": "markdown",
      "metadata": {
        "id": "mlzHPLKdYH2n"
      },
      "source": [
        "Cada tipo de variable responde a ciertos **métodos**. Veamos las operaciones lógicas, que utilizan **booleanos**"
      ]
    },
    {
      "cell_type": "markdown",
      "metadata": {
        "id": "uMWfyWUAYH2n"
      },
      "source": [
        "## Booleanos"
      ]
    },
    {
      "cell_type": "markdown",
      "metadata": {
        "id": "RP886s-GYH2n"
      },
      "source": [
        "### Operaciones lógicas"
      ]
    },
    {
      "cell_type": "code",
      "execution_count": null,
      "metadata": {
        "id": "AoKcKx9dYH2n"
      },
      "outputs": [],
      "source": [
        "print(10 >= 9)"
      ]
    },
    {
      "cell_type": "code",
      "execution_count": null,
      "metadata": {
        "id": "AI0IwWNsYH2n"
      },
      "outputs": [],
      "source": [
        "print(\"palabra\" == \"palabra\")\n",
        "print(\"otras palabras\" != \"otras palabras\") "
      ]
    },
    {
      "cell_type": "code",
      "execution_count": null,
      "metadata": {
        "id": "9UHzrcfzYH2o"
      },
      "outputs": [],
      "source": [
        "print(\"test\" in \"testing\")\n",
        "\n",
        "a = 'testing'\n",
        "\n",
        "print('test' in a)"
      ]
    },
    {
      "cell_type": "markdown",
      "metadata": {
        "id": "iFugD5o4YH2o"
      },
      "source": [
        "Los operadores disponibles son: \n",
        "\n",
        "    Relacionales:\n",
        "    - >= , <=, <, > : Mayor o igual, menor o igual, mayor o menor\n",
        "    - != , == : Distinto, Igual\n",
        "    - in : Contenido por \n",
        "    Lógicos:\n",
        "    - not o ~ : Negación\n",
        "    - and o & : Ambas verdaderas\n",
        "    - or o | : Una u otra es verdadera\n",
        "    \n",
        "Como booleanos, se pueden utilizar tanto 0 y 1 como True y False."
      ]
    },
    {
      "cell_type": "markdown",
      "metadata": {
        "id": "9TZuXjHTYH2o"
      },
      "source": [
        "# Ejercicios <a name=\"section-3\"></a>\n",
        "\n",
        "\n",
        "1- Definan a = 5, b = 7 y c = 8\n",
        "\n",
        "Prueben las siguientes operaciones booleanas:\n",
        "\n",
        "2- a > b\n",
        "\n",
        "3- a < b\n",
        "\n",
        "4- a + b < c\n",
        "\n",
        "5- (a + b > c) | (a + b < c) --> a + b o es mayor a c o es menor\n",
        "\n",
        "6- (a + b > c) & (a + b < c) --> a + b es mayor a c y es menor a c"
      ]
    },
    {
      "cell_type": "markdown",
      "metadata": {
        "id": "_bykM5xRYH2o"
      },
      "source": [
        "## Strings <a name=\"section-4\"></a>"
      ]
    },
    {
      "cell_type": "code",
      "execution_count": null,
      "metadata": {
        "id": "xh_Kp4-1YH2o"
      },
      "outputs": [],
      "source": [
        "\"dos strings se pueden \" + \"sumar\""
      ]
    },
    {
      "cell_type": "markdown",
      "metadata": {
        "id": "8LjtbX6GYH2o"
      },
      "source": [
        "Podemos acceder a ellos mediante **índices**. Los mismos funcionan para cualquier **iterable**, que es un objeto con muchos elementos que son accesibles secuencialmente. Podemos usar los índices para acceder a una posición determinada, pasándola entre corchetes [posición]. Es IMPORTANTE mencionar que en Python la primera posición tiene el índice 0 (y no 1)."
      ]
    },
    {
      "cell_type": "code",
      "execution_count": null,
      "metadata": {
        "id": "bDUh29pyYH2o"
      },
      "outputs": [],
      "source": [
        "texto = \"programación en python\""
      ]
    },
    {
      "cell_type": "code",
      "execution_count": null,
      "metadata": {
        "id": "rntpikFlYH2o"
      },
      "outputs": [],
      "source": [
        "texto[0]"
      ]
    },
    {
      "cell_type": "markdown",
      "metadata": {
        "id": "tFt1tIY9YH2o"
      },
      "source": [
        "También podemos usar los índices para traer más de un elemento al mismo tiempo, usando el **slicing**. El slicing lleva tres parámetros: comienzo (start), final (stop) e intervalo o paso (step).\n",
        "\n",
        "- El parámetro comienzo (start) indica la primera posición incluida en la selección, por default es 0.\n",
        "\n",
        "- El parámetro final (stop) es la primera posición que NO va a estar incluída, por default se incluyen todos los elementos. \n",
        "\n",
        "- El parámetro intervalo o paso (step), es optativo e indica el tamaño del paso entre seleccionar un elemento y el siguiente, por default el paso es 1. El paso también puede ser negativo, en este caso contamos desde el final hacia el comienzo, esto es muy útil para dar vuelta los strings...\n",
        "\n",
        "    \n",
        "    [comienzo : final : intervalo] (en inglés es [start : stop : step] )\n",
        "    \n",
        "    \n",
        "El intervalo que se recibe es semi-abierto (indice_primero, indice_segundo], es decir se incluye el primero y no el segundo valor. Se admiten números negativos, que contabilizan desde el final."
      ]
    },
    {
      "cell_type": "code",
      "execution_count": null,
      "metadata": {
        "id": "FMkqmiIbYH2o"
      },
      "outputs": [],
      "source": [
        "texto[:]"
      ]
    },
    {
      "cell_type": "code",
      "execution_count": null,
      "metadata": {
        "id": "SIis_m89YH2o"
      },
      "outputs": [],
      "source": [
        "texto[:1]"
      ]
    },
    {
      "cell_type": "code",
      "execution_count": null,
      "metadata": {
        "id": "Sv7EUrApYH2o"
      },
      "outputs": [],
      "source": [
        "texto[1:4]"
      ]
    },
    {
      "cell_type": "code",
      "execution_count": null,
      "metadata": {
        "id": "MxqMHk1eYH2p"
      },
      "outputs": [],
      "source": [
        "texto[::-1]"
      ]
    },
    {
      "cell_type": "markdown",
      "metadata": {
        "id": "tX5ZHAefYH2p"
      },
      "source": [
        "Ejercicio \n",
        "\n",
        "1- Dado ese string devuelvan únicamente la palabra python usando slicing"
      ]
    },
    {
      "cell_type": "code",
      "execution_count": null,
      "metadata": {
        "id": "2yMOhdmYYH2p"
      },
      "outputs": [],
      "source": [
        "texto"
      ]
    },
    {
      "cell_type": "code",
      "execution_count": null,
      "metadata": {
        "id": "7qgKQTekYH2p"
      },
      "outputs": [],
      "source": [
        "texto[16:23]"
      ]
    },
    {
      "cell_type": "code",
      "execution_count": null,
      "metadata": {
        "id": "c4lrNp2yYH2p"
      },
      "outputs": [],
      "source": [
        "texto[16:23]"
      ]
    },
    {
      "cell_type": "code",
      "execution_count": null,
      "metadata": {
        "id": "BoqbznjkYH2p"
      },
      "outputs": [],
      "source": [
        "texto[-6:]"
      ]
    },
    {
      "cell_type": "code",
      "execution_count": null,
      "metadata": {
        "id": "CG-6hrVfYH2p"
      },
      "outputs": [],
      "source": [
        "texto[-6:23:1]"
      ]
    },
    {
      "cell_type": "markdown",
      "metadata": {
        "id": "BJkE6F_OYH2p"
      },
      "source": [
        "Veamos algunos otros métodos de los strings"
      ]
    },
    {
      "cell_type": "code",
      "execution_count": null,
      "metadata": {
        "id": "L7OjHq_oYH2p"
      },
      "outputs": [],
      "source": [
        "texto.upper()"
      ]
    },
    {
      "cell_type": "code",
      "execution_count": null,
      "metadata": {
        "id": "Mt5KbnOOYH2p"
      },
      "outputs": [],
      "source": [
        "texto.title()"
      ]
    },
    {
      "cell_type": "code",
      "execution_count": null,
      "metadata": {
        "id": "o4S63L3QYH2p"
      },
      "outputs": [],
      "source": [
        "texto.split() # Devuelve una lista, de ésto vamos a hablar a continuación"
      ]
    },
    {
      "cell_type": "markdown",
      "metadata": {
        "id": "0yL_HqvzYH2p"
      },
      "source": [
        "Otras formas de combinar variables y texto..."
      ]
    },
    {
      "cell_type": "markdown",
      "metadata": {
        "id": "R44PQbIzYH2p"
      },
      "source": [
        "Rellenamos un string con **.format(query, modales)**:"
      ]
    },
    {
      "cell_type": "code",
      "execution_count": null,
      "metadata": {
        "id": "KqUF61eQYH2p"
      },
      "outputs": [],
      "source": [
        "tema = 'data science'\n",
        "modales = 'por favor'\n",
        "\n",
        "'Dame información de {0} si esta disponible, {1}'.format(tema, modales)"
      ]
    },
    {
      "cell_type": "code",
      "execution_count": null,
      "metadata": {
        "id": "VW__QLpIYH2p"
      },
      "outputs": [],
      "source": [
        "#Otra manera\n",
        "print(f'Dame información de {tema.upper()} si esta disponible, {modales}')"
      ]
    },
    {
      "cell_type": "markdown",
      "metadata": {
        "id": "3arlFzB9YH2p"
      },
      "source": [
        "Otros métodos a mencionar son:"
      ]
    },
    {
      "cell_type": "code",
      "execution_count": null,
      "metadata": {
        "id": "ONv5UhpkYH2q"
      },
      "outputs": [],
      "source": [
        "\"1000\".isdigit()"
      ]
    },
    {
      "cell_type": "code",
      "execution_count": null,
      "metadata": {
        "id": "VGzW5E6bYH2q"
      },
      "outputs": [],
      "source": [
        "texto.replace(' ', '...')"
      ]
    },
    {
      "cell_type": "code",
      "execution_count": null,
      "metadata": {
        "id": "ica4qnKGYH2q"
      },
      "outputs": [],
      "source": [
        "\"   quitando espacios  \".strip()"
      ]
    },
    {
      "cell_type": "code",
      "execution_count": null,
      "metadata": {
        "id": "z_ZnpW1qYH2q"
      },
      "outputs": [],
      "source": [
        "texto = \"Me gusta el 37\" # Piso el contenido de la variable para hacer otras pruebas\n",
        "texto.isalpha()"
      ]
    },
    {
      "cell_type": "code",
      "execution_count": null,
      "metadata": {
        "id": "9iiD_Qy7YH2q"
      },
      "outputs": [],
      "source": [
        "texto = \"Me\" # Piso el contenido de la variable\n",
        "texto.isalpha()"
      ]
    },
    {
      "cell_type": "markdown",
      "metadata": {
        "id": "svA7mFQeYH2q"
      },
      "source": [
        "#### Ejercicios <a name=\"section-5\"></a>\n",
        "\n",
        "1- Concatenar los string \"hola\" y \"qué tal\", separando ambos strings con un espacio (Tip: un espacio es: \" \")\n",
        "\n",
        "2- Guardar el resultado anterior en una variable y pasar el texto a mayúsculas."
      ]
    },
    {
      "cell_type": "code",
      "execution_count": null,
      "metadata": {
        "id": "t-LEBKLRYH2q"
      },
      "outputs": [],
      "source": [
        "# Ejercicio 1"
      ]
    },
    {
      "cell_type": "code",
      "execution_count": null,
      "metadata": {
        "id": "J42fiPrTYH2q"
      },
      "outputs": [],
      "source": [
        "# Ejercicio 2"
      ]
    },
    {
      "cell_type": "markdown",
      "metadata": {
        "id": "xN-jNtj2YH2q"
      },
      "source": [
        "## Listas <a name=\"section-6\"></a>\n",
        "\n",
        "Las listas son un conjunto de elementos ordenados. Estos elementos pueden ser de cualquier tipo, incluyendo otras listas. Veamos algunas operaciones con ellas."
      ]
    },
    {
      "cell_type": "code",
      "execution_count": null,
      "metadata": {
        "scrolled": true,
        "id": "rVfWimP2YH2q"
      },
      "outputs": [],
      "source": [
        "amigos = ['Mateo', 'Nico', 'Claudia', 'Ernestina', 'Paola']"
      ]
    },
    {
      "cell_type": "markdown",
      "metadata": {
        "id": "QkFlsQWMYH2q"
      },
      "source": [
        "### Indexing y slicing en listas"
      ]
    },
    {
      "cell_type": "markdown",
      "metadata": {
        "id": "3rMcoEv8YH2q"
      },
      "source": [
        "De la misma forma que con los strings en el contexto de la listas generalmente hablamos de **indexación** o acceso por índice a la acción de encontrar un valor según su posición en la lista. \n",
        "\n",
        "Importantísimo (sí, ¡una vez más!): En Python el primer elemento se indexa con el valor 0. Es decir, si queremos el primer valor de una lista tenemos que llamar a la posición 0."
      ]
    },
    {
      "cell_type": "code",
      "execution_count": null,
      "metadata": {
        "id": "LXUJl1JGYH2q"
      },
      "outputs": [],
      "source": [
        "amigos[0]"
      ]
    },
    {
      "cell_type": "markdown",
      "metadata": {
        "id": "k2LbE1-1YH2q"
      },
      "source": [
        "Además, el último elemento se indexa como -1, el siguiente -2 y así sucesivamente. Entonces para acceder al último elemento:"
      ]
    },
    {
      "cell_type": "code",
      "execution_count": null,
      "metadata": {
        "id": "SDik1CjgYH2q"
      },
      "outputs": [],
      "source": [
        "amigos[-1]"
      ]
    },
    {
      "cell_type": "markdown",
      "metadata": {
        "id": "vMx9RH2hYH2q"
      },
      "source": [
        "Además, podemos acceder a varios elementos en simultáneo, usando el **slicing** de la misma manera que con strings.\n",
        "\n",
        "El slicing aplicado a una lista nos devuelve una **lista**.\n",
        "\n",
        "Veamos algunos ejemplos:"
      ]
    },
    {
      "cell_type": "code",
      "execution_count": null,
      "metadata": {
        "id": "UFavRQhkYH2r"
      },
      "outputs": [],
      "source": [
        "amigos[:] # arranco en 0 hasta el final, con el paso default (1)"
      ]
    },
    {
      "cell_type": "code",
      "execution_count": null,
      "metadata": {
        "id": "oVHDywWEYH2r"
      },
      "outputs": [],
      "source": [
        "amigos[:1] # arranco en 0 y el primero sin incluir es el 1, con el paso default (1)"
      ]
    },
    {
      "cell_type": "code",
      "execution_count": null,
      "metadata": {
        "id": "qFTqnT93YH2r"
      },
      "outputs": [],
      "source": [
        "amigos[:-1] # excluímos el último elemento"
      ]
    },
    {
      "cell_type": "code",
      "execution_count": null,
      "metadata": {
        "id": "KuznO_txYH2r"
      },
      "outputs": [],
      "source": [
        "amigos[::2] # salteamos un elemento a la vez"
      ]
    },
    {
      "cell_type": "markdown",
      "metadata": {
        "id": "-g1xtNjrYH2r"
      },
      "source": [
        "Ejercicios:\n",
        "\n",
        "1- ¿Es el resultado de amigos[:1] igual al de acceder directamente a la primera posición? \n",
        "\n",
        "2- Recorrer la lista de elementos de atrás para adelante.\n",
        "\n",
        "3- Seleccionar del 3er elemento al 4to elemento."
      ]
    },
    {
      "cell_type": "markdown",
      "metadata": {
        "id": "XzDJn25uYH2r"
      },
      "source": [
        "### Otras operaciones y métodos"
      ]
    },
    {
      "cell_type": "markdown",
      "metadata": {
        "id": "nBVwPi0nYH2r"
      },
      "source": [
        "Agregar un nuevo elemento:"
      ]
    },
    {
      "cell_type": "code",
      "execution_count": null,
      "metadata": {
        "id": "LvRkTfRaYH2r"
      },
      "outputs": [],
      "source": [
        "amigos.append('Chicharito')\n",
        "print(amigos)\n",
        "\n",
        "amigos = amigos + ['Chicharito']\n",
        "\n",
        "x = 10\n",
        "\n",
        "x = x + 3\n",
        "\n",
        "x"
      ]
    },
    {
      "cell_type": "markdown",
      "metadata": {
        "id": "sZuLf1daYH2r"
      },
      "source": [
        "Sumamos otra lista:"
      ]
    },
    {
      "cell_type": "code",
      "execution_count": null,
      "metadata": {
        "id": "sS6Yyd71YH2r"
      },
      "outputs": [],
      "source": [
        "amigos = amigos + ['Pipi', 'Toto']\n",
        "print(amigos) "
      ]
    },
    {
      "cell_type": "markdown",
      "metadata": {
        "id": "fyzlfq70YH2r"
      },
      "source": [
        "Unir una lista con un separador dado:"
      ]
    },
    {
      "cell_type": "code",
      "execution_count": null,
      "metadata": {
        "id": "sbYFvcFiYH2r"
      },
      "outputs": [],
      "source": [
        "ejemplo = ['valor1', 'valor2', 'valor3']\n",
        "';'.join(ejemplo)"
      ]
    },
    {
      "cell_type": "markdown",
      "metadata": {
        "id": "mWS3Re3kYH2r"
      },
      "source": [
        "El ejercicio 1 se podría haber resuelto usando .join así:"
      ]
    },
    {
      "cell_type": "code",
      "execution_count": null,
      "metadata": {
        "id": "o8M23FXiYH2r"
      },
      "outputs": [],
      "source": [
        "\" \".join([\"hola\", \"qué tal\"])"
      ]
    },
    {
      "cell_type": "markdown",
      "metadata": {
        "id": "nCyz4ClkYH2r"
      },
      "source": [
        "Borrado por valor:"
      ]
    },
    {
      "cell_type": "code",
      "execution_count": null,
      "metadata": {
        "id": "aTA6lHOsYH2r"
      },
      "outputs": [],
      "source": [
        "amigos.remove('Mateo')\n",
        "print(amigos)"
      ]
    },
    {
      "cell_type": "markdown",
      "metadata": {
        "id": "oa6TqNQeYH2s"
      },
      "source": [
        "Borrado por índice:"
      ]
    },
    {
      "cell_type": "code",
      "execution_count": null,
      "metadata": {
        "scrolled": true,
        "id": "M5KpbNsKYH2s"
      },
      "outputs": [],
      "source": [
        "del amigos[0]\n",
        "print(amigos)"
      ]
    },
    {
      "cell_type": "markdown",
      "metadata": {
        "id": "iJzvh0IYYH2s"
      },
      "source": [
        "Devuelve un elemento y lo borra de la lista:"
      ]
    },
    {
      "cell_type": "code",
      "execution_count": null,
      "metadata": {
        "id": "UeET2D3QYH2s"
      },
      "outputs": [],
      "source": [
        "valor = amigos.pop(0)"
      ]
    },
    {
      "cell_type": "code",
      "execution_count": null,
      "metadata": {
        "id": "5o86GuUiYH2s"
      },
      "outputs": [],
      "source": [
        "edades = [30, 40, 38, 30, 37]"
      ]
    },
    {
      "cell_type": "markdown",
      "metadata": {
        "id": "jeXXhW-LYH2s"
      },
      "source": [
        "Cantidad de apariciones:"
      ]
    },
    {
      "cell_type": "code",
      "execution_count": null,
      "metadata": {
        "id": "HLyFMUvlYH2s"
      },
      "outputs": [],
      "source": [
        "print(edades.count(30))"
      ]
    },
    {
      "cell_type": "markdown",
      "metadata": {
        "id": "4nyIEZqIYH2s"
      },
      "source": [
        "Largo de la lista:"
      ]
    },
    {
      "cell_type": "code",
      "execution_count": null,
      "metadata": {
        "id": "LqT2QKUpYH2s"
      },
      "outputs": [],
      "source": [
        "print(len(edades))"
      ]
    },
    {
      "cell_type": "markdown",
      "metadata": {
        "id": "LCAE9jccYH2s"
      },
      "source": [
        "Ordenar la lista:"
      ]
    },
    {
      "cell_type": "code",
      "execution_count": null,
      "metadata": {
        "id": "rA06_444YH2s"
      },
      "outputs": [],
      "source": [
        "sorted(edades)"
      ]
    },
    {
      "cell_type": "markdown",
      "metadata": {
        "id": "cKTG-uW1YH2s"
      },
      "source": [
        "Sumar el total:"
      ]
    },
    {
      "cell_type": "code",
      "execution_count": null,
      "metadata": {
        "id": "8wgzCNurYH2s"
      },
      "outputs": [],
      "source": [
        "print(sum(edades))"
      ]
    },
    {
      "cell_type": "markdown",
      "metadata": {
        "id": "qEydJskNYH2s"
      },
      "source": [
        "Mínimo:"
      ]
    },
    {
      "cell_type": "code",
      "execution_count": null,
      "metadata": {
        "id": "EwttrxgQYH2s"
      },
      "outputs": [],
      "source": [
        "print(min(edades))"
      ]
    },
    {
      "cell_type": "markdown",
      "metadata": {
        "id": "gPaoaZFsYH2s"
      },
      "source": [
        "Máximo:"
      ]
    },
    {
      "cell_type": "code",
      "execution_count": null,
      "metadata": {
        "id": "0wOkgmtRYH2s"
      },
      "outputs": [],
      "source": [
        "print(max(edades))"
      ]
    },
    {
      "cell_type": "markdown",
      "metadata": {
        "id": "l1Z6UGcaYH2s"
      },
      "source": [
        "Ejercicio: <a name=\"section-7\"></a>\n",
        "\n",
        "1- Calcular el promedio de edad de la lista \"edades\"\n"
      ]
    },
    {
      "cell_type": "code",
      "execution_count": null,
      "metadata": {
        "id": "hC8XUIYcYH2s"
      },
      "outputs": [],
      "source": [
        "# Ejercicio 1"
      ]
    },
    {
      "cell_type": "markdown",
      "metadata": {
        "id": "W4cJoxP9YH2t"
      },
      "source": [
        "## Diccionarios <a name=\"section-8\"></a>\n",
        "\n",
        "Los diccionarios consisten en estructuras que contienen pares de una **llave** y un **valor**. Los elementos NO están ordenados, con lo cual no se puede acceder por posición ni slicing.\n",
        "\n",
        "Veamos un ejemplo"
      ]
    },
    {
      "cell_type": "code",
      "execution_count": null,
      "metadata": {
        "id": "QW1grTPbYH2t"
      },
      "outputs": [],
      "source": [
        "dnis = {'Herrera':32676585, 'Guzmán':9564787, \n",
        "        'Pérez':5676898, 'Hernández':40565999, \n",
        "        'Abraham':28375814,\n",
        "       \"soy_una_llave\":\"soy_un_valor\"} "
      ]
    },
    {
      "cell_type": "markdown",
      "metadata": {
        "id": "KJqKFblgYH2t"
      },
      "source": [
        "Sin embargo, sí podemos acceder a un elemento por su llave. Accedemos al valor de \"Abraham\""
      ]
    },
    {
      "cell_type": "code",
      "execution_count": null,
      "metadata": {
        "id": "j8l4l5c0YH2t"
      },
      "outputs": [],
      "source": [
        "dnis['Abraham'] # noten que se usa la misma notación que con las listas"
      ]
    },
    {
      "cell_type": "markdown",
      "metadata": {
        "id": "jUGHdjw8YH2t"
      },
      "source": [
        "¿Qué pasa si tratamos un diccionario como una lista?"
      ]
    },
    {
      "cell_type": "code",
      "execution_count": null,
      "metadata": {
        "id": "zW5O44qsYH2t"
      },
      "outputs": [],
      "source": [
        "dnis[0]"
      ]
    },
    {
      "cell_type": "markdown",
      "metadata": {
        "id": "8BgyPJklYH2t"
      },
      "source": [
        "Tenemos un error, tratemos de interpretarlo: KeyError se refierre a que no existe una llave (Key) a la que se trató de acceder. En este caso la llave que se trató de acceder es 0."
      ]
    },
    {
      "cell_type": "markdown",
      "metadata": {
        "id": "qrYMTTJIYH2t"
      },
      "source": [
        "Podemos ver todas las llaves:"
      ]
    },
    {
      "cell_type": "code",
      "execution_count": null,
      "metadata": {
        "id": "ZHiIhEZ1YH2t"
      },
      "outputs": [],
      "source": [
        "dnis.keys()"
      ]
    },
    {
      "cell_type": "markdown",
      "metadata": {
        "id": "wSh4UFohYH2t"
      },
      "source": [
        "Traer todos los pares de elementos:"
      ]
    },
    {
      "cell_type": "code",
      "execution_count": null,
      "metadata": {
        "id": "i8b6knflYH2t"
      },
      "outputs": [],
      "source": [
        "dnis.items()"
      ]
    },
    {
      "cell_type": "markdown",
      "metadata": {
        "id": "AlntGsTRYH2t"
      },
      "source": [
        "Y utilizar los mismos métodos para borrar y extrar como en las listas:"
      ]
    },
    {
      "cell_type": "code",
      "execution_count": null,
      "metadata": {
        "id": "5H-Zn8CZYH2t"
      },
      "outputs": [],
      "source": [
        "dnis.pop('Herrera')"
      ]
    },
    {
      "cell_type": "markdown",
      "metadata": {
        "id": "kyfhTqLQYH2t"
      },
      "source": [
        "Los diccionarios tienen longitud, de la misma forma que las listas y string"
      ]
    },
    {
      "cell_type": "code",
      "execution_count": null,
      "metadata": {
        "id": "xlpVxp3AYH2t"
      },
      "outputs": [],
      "source": [
        "len(dnis)"
      ]
    },
    {
      "cell_type": "markdown",
      "metadata": {
        "id": "xCKtqAEoYH2t"
      },
      "source": [
        "## Condicionales <a name=\"section-9\"></a>\n",
        "\n",
        "El condicional tiene la siguiente sintáxis:\n",
        "\n",
        "    if CONDICIÓN:\n",
        "        código1\n",
        "    elif CONDICIÓN2:\n",
        "        código2\n",
        "    else:\n",
        "        código3\n",
        "        \n",
        "Donde la condición es un operador que devuelve un objeto de tipo booleano. La **indentación** del código define qué parte se incluye como condicional.\n",
        "\n",
        "El término \"elif\" viene de \"else if\". La condición sólo se evaluará si la condición del \"if\" no se cumple. "
      ]
    },
    {
      "cell_type": "code",
      "execution_count": null,
      "metadata": {
        "id": "K5TryxJ1YH2u"
      },
      "outputs": [],
      "source": [
        "precio_dolar = 62\n",
        "\n",
        "if precio_dolar >= 90:\n",
        "    print(\"El dólar se fue por las nubes\")\n",
        "elif (precio_dolar < 90) and (precio_dolar >= 70):\n",
        "    print(\"El dolar subió\")\n",
        "else: \n",
        "    print(\"El dólar es menor a 70\")\n",
        "\n",
        "print(precio_dolar)"
      ]
    },
    {
      "cell_type": "markdown",
      "metadata": {
        "id": "te0JpvT9YH2u"
      },
      "source": [
        "## Bucles o Loops\n",
        "\n",
        "Los bucles son un tipo de sentencia donde se realiza el código contenido repetidamente. Existen dos tipos. En el bucle **for**, se **itera** o recorre un conjunto de elementos actuando por cada uno de ellos. En el bucle **while** se itera hasta que se cumple una condiciónn de corte."
      ]
    },
    {
      "cell_type": "markdown",
      "metadata": {
        "id": "G5RATJDGYH2u"
      },
      "source": [
        "### For loop"
      ]
    },
    {
      "cell_type": "code",
      "execution_count": null,
      "metadata": {
        "id": "KcCvdjFdYH2u"
      },
      "outputs": [],
      "source": [
        "for n in [1,2,'3']:\n",
        "    print(f'EL tipo es {n*2} {type(n*2)}')"
      ]
    },
    {
      "cell_type": "code",
      "execution_count": null,
      "metadata": {
        "id": "4gWZ4rjpYH2u"
      },
      "outputs": [],
      "source": [
        "lista = [1,2,3,4,5]\n",
        "\n",
        "for n in lista:\n",
        "    print(n * 2)"
      ]
    },
    {
      "cell_type": "markdown",
      "metadata": {
        "id": "Xtano41IYH2u"
      },
      "source": [
        "También agreguemos la función **range** a nuestro repertorio. La función range consta de tres parámetros importante: start, stop, step. Si pasamos un sólo parámetro, estamos pasando el \"stop\" y tomamos 0 como valor default de \"start\". Del mismo modo que cuando vimos listas, el stop no está incluído y el step por default es 1.\n",
        "\n",
        "Veamos cómo funciona:"
      ]
    },
    {
      "cell_type": "code",
      "execution_count": null,
      "metadata": {
        "id": "jECm0UCqYH2u"
      },
      "outputs": [],
      "source": [
        "for n in range(5):\n",
        "    print(n)"
      ]
    },
    {
      "cell_type": "markdown",
      "metadata": {
        "id": "P35cq1J5YH2u"
      },
      "source": [
        "Si pasamos dos parámetros, estamos pasando el start y el stop, el primer valor es el \"start\" y el segundo el \"stop\"."
      ]
    },
    {
      "cell_type": "code",
      "execution_count": null,
      "metadata": {
        "id": "2SIbvVLaYH2u"
      },
      "outputs": [],
      "source": [
        "for n in range(0,5):\n",
        "    print(n)"
      ]
    },
    {
      "cell_type": "markdown",
      "metadata": {
        "id": "mCvAcvxMYH2u"
      },
      "source": [
        "Noten que el valor de start se incluye y el de stop no:"
      ]
    },
    {
      "cell_type": "code",
      "execution_count": null,
      "metadata": {
        "id": "7LmyjvpeYH2u"
      },
      "outputs": [],
      "source": [
        "for n in range(1, 6): # esto nos da el mismo resultado que un par de celdas más arriba\n",
        "    print(n * 2)"
      ]
    },
    {
      "cell_type": "markdown",
      "metadata": {
        "id": "BG4uXso-YH2u"
      },
      "source": [
        "Por último, el tercer parámetro es el step..."
      ]
    },
    {
      "cell_type": "markdown",
      "metadata": {
        "id": "X4n61mtkYH2u"
      },
      "source": [
        "Ejercicios combinando lo visto hasta el momento:\n",
        "\n",
        "1- Imprimir los valores de 1 a 50, salteando de a un valor por vez...\n",
        "\n",
        "2- Dada la siguiente lista: medios = [\"cheques\", \"bonos\", \"acciones\", 1000, \"transferencia\"]. Acceder al 2do elemento, y luego al 3er elemento (de ese 2do elemento) y responder qué devulve.\n",
        "\n",
        "3- De manera similar, ahora accedan al 4to elemento, y luego al 3er elemento de éste, ¿qué ocurre?\n",
        "\n",
        "4- Agreguen una lista vacía al final de esa lista.\n",
        "\n",
        "5- Recorran *medios* (iteren) y si el tipo del elemento es string, hagan un print de su primer elemento, si es int (entero) pásenlo a string y hagan un print de su primer elemento y si no es nada de eso hagan un print que diga \"Es otro tipo\". Tip1: para pasar un elemento a tipo string pueden usar la función str(variable), donde variable es el elemento que quieren transformar. Tip2: para arrancar este ejercicio pueden copiar lo siguiente:"
      ]
    },
    {
      "cell_type": "code",
      "execution_count": null,
      "metadata": {
        "id": "JpoGrbo4YH2u"
      },
      "outputs": [],
      "source": [
        "for medio in medios:\n",
        "    pass # pass no hace nada, sólo pasa sin ejecutar nada... Reemplácenlo y completen con las condiciones."
      ]
    },
    {
      "cell_type": "markdown",
      "metadata": {
        "id": "-lFHozTEYH2u"
      },
      "source": [
        "### While loop"
      ]
    },
    {
      "cell_type": "markdown",
      "metadata": {
        "id": "WroI-6skYH2u"
      },
      "source": [
        "Los bucles **while** se definen con una condición, y el código contenido se ejecuta mientras la misma evalue como True. Es importante definir correctamente cuándo la condición pasa de True a False, si no lo hacemos podemos dejar corriendo un programa infinitamente sin que corte. Si eso llega a suceder tienen un botón de stop arriba en la notebook."
      ]
    },
    {
      "cell_type": "code",
      "execution_count": null,
      "metadata": {
        "id": "JslcMH_wYH2u"
      },
      "outputs": [],
      "source": [
        "contador = 0\n",
        "\n",
        "while contador < 20:\n",
        "    contador += 1 # esto equivale a count = count + 1\n",
        "    print(contador)"
      ]
    },
    {
      "cell_type": "markdown",
      "metadata": {
        "id": "qPOJdQgEYH2v"
      },
      "source": [
        "---\n",
        "\n",
        "## Recursos y tips\n",
        "\n",
        "\n",
        "- [Google!](https://google.com)\n",
        "- [StackOverflow](https://stackoverflow.com)\n",
        "- [Google Colab](https://colab.research.google.com)\n",
        "- [Slicing](https://python-reference.readthedocs.io/en/latest/docs/brackets/slicing.html)\n",
        "--- \n",
        "\n",
        "## Tips en la práctica\n",
        "\n",
        "- Ver _docstring_ con Shift + TAB o help()\n",
        "- Leer Errores\n",
        "- Print"
      ]
    },
    {
      "cell_type": "code",
      "execution_count": null,
      "metadata": {
        "id": "oYPUhmkpYH2v"
      },
      "outputs": [],
      "source": []
    }
  ],
  "metadata": {
    "kernelspec": {
      "display_name": "conda_python3",
      "language": "python",
      "name": "conda_python3"
    },
    "language_info": {
      "codemirror_mode": {
        "name": "ipython",
        "version": 3
      },
      "file_extension": ".py",
      "mimetype": "text/x-python",
      "name": "python",
      "nbconvert_exporter": "python",
      "pygments_lexer": "ipython3",
      "version": "3.6.10"
    },
    "colab": {
      "provenance": [],
      "include_colab_link": true
    }
  },
  "nbformat": 4,
  "nbformat_minor": 0
}